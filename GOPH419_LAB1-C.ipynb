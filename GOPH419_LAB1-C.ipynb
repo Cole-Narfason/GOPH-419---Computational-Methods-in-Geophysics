{
 "cells": [
  {
   "cell_type": "markdown",
   "metadata": {},
   "source": [
    "# GOPH 419 - Computational Methods for Geophysicists Lab 1 #"
   ]
  },
  {
   "cell_type": "markdown",
   "metadata": {},
   "source": [
    "### Cole Narfason ##"
   ]
  },
  {
   "cell_type": "markdown",
   "metadata": {},
   "source": [
    "## Abstract ##"
   ]
  },
  {
   "cell_type": "markdown",
   "metadata": {},
   "source": [
    "   The purpose of this lab is to implement an algorithm for a company that designs and builds embedded control systems for automated deliveries to the International Space Station (ISS). The algorithm is to be created in order to compute the allowable range of launch angles for the first stage of a rocket system to reach a target maximum altitude within a specified tolerance. The main goal of this investigation was to compute the minimum and maximum allowable launch angles in order to reach a desired altitude. Specific variables were also kept constant in certain scenarios to mimic potential real life limitations."
   ]
  },
  {
   "cell_type": "code",
   "execution_count": 59,
   "metadata": {},
   "outputs": [
    {
     "data": {
      "text/html": [
       "<img src=\"https://i.rmbl.ws/s8/1/w/q/L/v/wqLva.OvCc.1-small-SFI-Launch-Highlights-for-f.jpg\"/>"
      ],
      "text/plain": [
       "<IPython.core.display.Image object>"
      ]
     },
     "execution_count": 59,
     "metadata": {},
     "output_type": "execute_result"
    }
   ],
   "source": [
    "#Show picture of example rocket\n",
    "from IPython.display import Image\n",
    "from IPython.core.display import HTML \n",
    "Image(url= \"https://i.rmbl.ws/s8/1/w/q/L/v/wqLva.OvCc.1-small-SFI-Launch-Highlights-for-f.jpg\")"
   ]
  },
  {
   "cell_type": "markdown",
   "metadata": {},
   "source": [
    "## Background Theory:"
   ]
  },
  {
   "cell_type": "markdown",
   "metadata": {},
   "source": [
    "This lab will make use of Python and use it to carry out examinations while using the Taylor series and aim to analyze error in numerical approximations. The Taylor series is a useful technique that allows for the estimation of the value of a function f(x) at a point xi+1 given the value of the function and its corresponding derivatives at another point xi. This series is especially useful when approximating non-elementary functions, such as trigonometric, exponential and logarithmic. Additionally it can be used for numerical differentiation and integration and error propagation. The equation for the Taylor series is given below in equation 1 and the sigma notation is given in equation 2."
   ]
  },
  {
   "cell_type": "markdown",
   "metadata": {},
   "source": [
    "**Equation 1:** Taylor Series Approximation"
   ]
  },
  {
   "cell_type": "markdown",
   "metadata": {},
   "source": [
    "![alt text](Eq1.jpg \"Equation 2\")"
   ]
  },
  {
   "cell_type": "markdown",
   "metadata": {},
   "source": [
    "**Equation 2:** Taylor Series Approximation in sigma notation"
   ]
  },
  {
   "cell_type": "markdown",
   "metadata": {},
   "source": [
    "![alt text](Eq2.jpg \"Equation 2\")"
   ]
  },
  {
   "cell_type": "markdown",
   "metadata": {},
   "source": [
    "An important aspect of this lab was to familiarize with significant figures, error analysis and the stopping criterion. The number of significant digits indicates the level of precision, how close the computed solution is to the previously computed solution. In order to gain information about precision and improve on it, the relative error is useful to calculate. The relative error is often used when the true value of a problem is not known. It provides an estimate of the error from the change in the estimated solution between successive approximations. There are two equations that relate to approximate error shown in equations 3 and 4."
   ]
  },
  {
   "cell_type": "markdown",
   "metadata": {},
   "source": [
    "**Equation 3:** Approximate Error"
   ]
  },
  {
   "cell_type": "markdown",
   "metadata": {},
   "source": [
    "![alt text](Eq3.jpg \"Equation 3\")"
   ]
  },
  {
   "cell_type": "markdown",
   "metadata": {},
   "source": [
    "**Equation 4:** Approximate Relative Error"
   ]
  },
  {
   "cell_type": "markdown",
   "metadata": {},
   "source": [
    "![alt text](Eq4.jpg )"
   ]
  },
  {
   "cell_type": "markdown",
   "metadata": {},
   "source": [
    "The approximate solution methods proceed until some pre-specified error tolerance is satisfied. This error tolerance is called the **stopping criterion**. The approximation keeps iterating until the condition εa< εs is no longer satisfied. In order to ensure that at least n significant figures are correct in the approximation, equation 5 is utilized. Once the stopping criterion is satisfied, the approximation is said to have converged."
   ]
  },
  {
   "cell_type": "markdown",
   "metadata": {},
   "source": [
    "**Equation 5:** Stopping Criterion Condition"
   ]
  },
  {
   "cell_type": "markdown",
   "metadata": {},
   "source": [
    "![alt text](Eq5.jpg)"
   ]
  },
  {
   "cell_type": "markdown",
   "metadata": {},
   "source": [
    "### For our particular goal we must use a few specific equations"
   ]
  },
  {
   "cell_type": "markdown",
   "metadata": {},
   "source": [
    "We know from mechanics that for a desired maximum altitude of αR where R is the radius of the Earth:\n"
   ]
  },
  {
   "cell_type": "markdown",
   "metadata": {},
   "source": [
    "**Equation 7:** Launch angle to reach desired maximum altitude αR"
   ]
  },
  {
   "cell_type": "markdown",
   "metadata": {},
   "source": [
    "![alt text](Eq7.jpg)"
   ]
  },
  {
   "cell_type": "markdown",
   "metadata": {},
   "source": [
    "Φ0 = launch angle from vertical (radians)\n",
    "\n",
    "ve = escape velocity of the rocket\n",
    "\n",
    "v0 = terminal velocity of the rocket"
   ]
  },
  {
   "cell_type": "markdown",
   "metadata": {},
   "source": [
    "A rendition of the Taylor series will be used and the assumption is that the embedded system has functions to compute positive square roots for real positive numbers and factorials for integers, but not for trigonometric functions. Therefore, the Borwein and Chamberland formula must be used, shown in equation 8 below."
   ]
  },
  {
   "cell_type": "markdown",
   "metadata": {},
   "source": [
    "**Equation 8:** Borwein and Chamberland formula"
   ]
  },
  {
   "cell_type": "markdown",
   "metadata": {},
   "source": [
    "![alt text](Eq8.jpg)"
   ]
  },
  {
   "cell_type": "markdown",
   "metadata": {},
   "source": [
    "# Methods/Algorithm and Discussion of Results:"
   ]
  },
  {
   "cell_type": "markdown",
   "metadata": {},
   "source": [
    "Import Necessary Libraries"
   ]
  },
  {
   "cell_type": "code",
   "execution_count": 1,
   "metadata": {},
   "outputs": [],
   "source": [
    "#import all neccessary libraries for quatitative analysis and visualization\n",
    "\n",
    "import math\n",
    "import numpy as np\n",
    "import pandas as pd\n",
    "import seaborn as sns\n",
    "import matplotlib.pyplot as plt"
   ]
  },
  {
   "cell_type": "markdown",
   "metadata": {},
   "source": [
    "Make a Taylor series function based off of the logic of Equations 1-5 from the background section but implements Equation 8:"
   ]
  },
  {
   "cell_type": "code",
   "execution_count": 3,
   "metadata": {},
   "outputs": [],
   "source": [
    "#Taylor Series Function\n",
    "\n",
    "def tseries(x , stopc):\n",
    "    '''\n",
    "    This function takes the input of an x value that can be substituted into into Eq (2) \n",
    "    and a stopc variable input which will dictate the stopping crtieria and precision/significant digits\n",
    "    \n",
    "    This function should output a variable T which is the approximation of a taylor series using Eq (2) user inputted\n",
    "    variable x and stopc\n",
    "    \n",
    "    The main purpose of this function is to execute a taylor series approximation using Eq(2) on a user inputted variable x\n",
    "    and stopping criteria for precision\n",
    "    \n",
    "    '''\n",
    "    eps_a = 1.0  # initialize relative error\n",
    "    y = 0  # initialize series solution \n",
    "    k = 1   #need an iteration counter k\n",
    "    stopc = 0.5* (10**(-(stopc))) #make sig dig stop criterion\n",
    "    \n",
    "    #implement a while loop so we can get a close enough calculation based on our stopping criteria (stopc)\n",
    "    while eps_a > stopc:\n",
    "        #calculate the next term using equation 8\n",
    "       \n",
    "        dy = 0.5 * (2*x)**(2*k) / (k**2 * (np.math.factorial(2*k) / np.math.factorial(k)**2))\n",
    "        \n",
    "        # update the estimate of exp\n",
    "        \n",
    "        y = y + dy\n",
    "        \n",
    "        \n",
    "        # update the error and iteration counter\n",
    "        eps_a = abs( dy / y)\n",
    "        \n",
    "        #update iteration counter\n",
    "        k = k + 1\n",
    "        \n",
    "    T = np.sqrt(y)\n",
    "    #square root y to get the angle from Equation (2)\n",
    "    \n",
    "    return T  "
   ]
  },
  {
   "cell_type": "markdown",
   "metadata": {},
   "source": [
    "Make another function called primealt that returns the min and max angles and uses the taylor series function we just created. These sample calculations below show how the min φ and max φ are calculated before being subbed into the Borwein and Chamberland formula as xmin and xmax to determine the Min and Max launch angles"
   ]
  },
  {
   "cell_type": "markdown",
   "metadata": {},
   "source": [
    "## **Sample Calculation:** Minimum launch angle using the minimum φ value "
   ]
  },
  {
   "cell_type": "markdown",
   "metadata": {},
   "source": [
    "with velocity ratio = 2, α = 0.25 and tolerance = ±2% "
   ]
  },
  {
   "cell_type": "markdown",
   "metadata": {},
   "source": [
    "![alt text](C1.jpg)"
   ]
  },
  {
   "cell_type": "markdown",
   "metadata": {},
   "source": [
    "## **Sample Calculation:** Maximum launch angle using the maximum φ value "
   ]
  },
  {
   "cell_type": "markdown",
   "metadata": {},
   "source": [
    "with velocity ratio = 2, α = 0.25 and tolerance = ±2% "
   ]
  },
  {
   "cell_type": "markdown",
   "metadata": {},
   "source": [
    "![alt text](C2.jpg)"
   ]
  },
  {
   "cell_type": "code",
   "execution_count": 6,
   "metadata": {},
   "outputs": [],
   "source": [
    "\n",
    "def primealt (ve_v0, alpha, tol_alpha, stopc):\n",
    "    ''' \n",
    "    This function takes the input: \n",
    "    a ratio of the escape to the terminal velocity ->  ve_v0 \n",
    "    the desired max altitude as a fraction of Earth's radius -> alpha\n",
    "    and the tolerance for max altitude -> tol_alpha\n",
    "    stoppping criteria -> stopc\n",
    "    \n",
    "    The function should output:\n",
    "    a two component vector containing the min allowable launch angle (when max altitude is (1*tol_alpha))\n",
    "    and the max allowable launch angle when (the max altitude is (1-tol_alpha)*alpha) \n",
    "    \n",
    "    This function is supposed to compute an allowable range of launch angles for the first stage of the rocket system to reach\n",
    "    target max altitude with a specified tolerance while utilizing the previously defined tseries function\n",
    "\n",
    "    \n",
    "    '''\n",
    "    \n",
    "#get alpha MIN \n",
    "    alpha_min = ((1 + tol_alpha)* alpha)\n",
    "#plug alpha min back into formula\n",
    "    minx = ((1 + alpha_min )  *   (np.sqrt((1-(((alpha_min) / (((1 + alpha_min))))* ((ve_v0)**2))))))\n",
    "    \n",
    "    \n",
    "#get alpha MAX\n",
    "    alpha_max = ((1 - tol_alpha)* alpha)\n",
    "    \n",
    "#plug alpha_max into the formula\n",
    "    maxx = ((1 + alpha_max )  *   (np.sqrt((1-(((alpha_max) / (((1 + alpha_max))))* ((ve_v0)**2))))))\n",
    "    \n",
    "    \n",
    "    #return minang, maxang\n",
    "    \n",
    "    print(tseries(minx, 5), tseries(maxx, 5) )\n",
    "    "
   ]
  },
  {
   "cell_type": "markdown",
   "metadata": {},
   "source": [
    "## Part: B "
   ]
  },
  {
   "cell_type": "markdown",
   "metadata": {},
   "source": [
    "Test your function from (a) when ve/v0 = 2, α = 0.25 with a tolerance of ±2%. State the expected results (computed using another tool or function), the actual results from your function and whether they agree."
   ]
  },
  {
   "cell_type": "code",
   "execution_count": 7,
   "metadata": {},
   "outputs": [
    {
     "name": "stdout",
     "output_type": "stream",
     "text": [
      "0.5740887346518779 0.6118594641738989\n"
     ]
    }
   ],
   "source": [
    "#Test my own function 'primealt' \n",
    "primealt(2, 0.25, 0.02, 5)"
   ]
  },
  {
   "cell_type": "markdown",
   "metadata": {},
   "source": [
    "Since we used a precision of 5 significant figures:"
   ]
  },
  {
   "cell_type": "markdown",
   "metadata": {},
   "source": [
    "### **Min Angle = 0.57408** ###"
   ]
  },
  {
   "cell_type": "markdown",
   "metadata": {},
   "source": [
    "### **Max Angle = 0.61185** ###"
   ]
  },
  {
   "cell_type": "markdown",
   "metadata": {},
   "source": [
    "## Now  let us make another function called proof that will compute the result without a taylor series approximation and see if the results agree"
   ]
  },
  {
   "cell_type": "code",
   "execution_count": 8,
   "metadata": {},
   "outputs": [],
   "source": [
    "def proof (ve_v0, alpha, tol_alpha):\n",
    "    ''' \n",
    "    This function takes the input: \n",
    "    a ratio of the escape to the terminal velocity ->  ve_v0 \n",
    "    the desired max altitude as a fraction of Earth's radius -> alpha\n",
    "    and the tolerance for max altitude -> tol_alpha\n",
    "    \n",
    "    The function should output:\n",
    "    the min allowable launch angle (when max altitude is (1*tol_alpha))\n",
    "    and the max allowable launch angle when (the max altitude is (1-tol_alpha)*alpha) \n",
    "    \n",
    "    This function is supposed to compute an allowable range of launch angles for the first stage of the rocket system \n",
    "    to reach target max altitude with a specified tolerance with using the numpy arcsin function.\n",
    "\n",
    "    \n",
    "    '''\n",
    "    \n",
    "#get alpha MIN \n",
    "    alpha_min = ((1 + tol_alpha)* alpha)\n",
    "#plug alpha min back into formula\n",
    "    minang = np.arcsin ((1 + alpha_min )  *   (np.sqrt((1-(((alpha_min) / (((1 + alpha_min))))* ((ve_v0)**2))))))\n",
    "    \n",
    "    \n",
    "#get alpha MAX\n",
    "    alpha_max = ((1 - tol_alpha)* alpha)\n",
    "    \n",
    "#plug alpha_max into the formula\n",
    "    maxang = np.arcsin ((1 + alpha_max )  *   (np.sqrt((1-(((alpha_max) / (((1 + alpha_max))))* ((ve_v0)**2))))))\n",
    "    \n",
    "    \n",
    "    return minang, maxang\n",
    "    "
   ]
  },
  {
   "cell_type": "markdown",
   "metadata": {},
   "source": [
    "### Let us execute the proof function to see if its results for the max angle and minimum angle agree with the taylor series approximation"
   ]
  },
  {
   "cell_type": "code",
   "execution_count": 9,
   "metadata": {},
   "outputs": [
    {
     "data": {
      "text/plain": [
       "(0.5740889001328788, 0.6118599611945376)"
      ]
     },
     "execution_count": 9,
     "metadata": {},
     "output_type": "execute_result"
    }
   ],
   "source": [
    "#Check results with another function\n",
    "proof(2, 0.25, 0.02)"
   ]
  },
  {
   "cell_type": "markdown",
   "metadata": {},
   "source": [
    "# They AGREE ! We are one step closer to launching our rocket !"
   ]
  },
  {
   "cell_type": "code",
   "execution_count": 10,
   "metadata": {},
   "outputs": [
    {
     "data": {
      "text/html": [
       "<img src=\"https://media.gq.com/photos/57eac35d9228bbed3f6f4ee5/16:9/pass/elon-musk-is-a-rocket.jpg\"/>"
      ],
      "text/plain": [
       "<IPython.core.display.Image object>"
      ]
     },
     "execution_count": 10,
     "metadata": {},
     "output_type": "execute_result"
    }
   ],
   "source": [
    "#Show picture of Elon the rocket man\n",
    "from IPython.display import Image\n",
    "from IPython.core.display import HTML \n",
    "Image(url= \"https://media.gq.com/photos/57eac35d9228bbed3f6f4ee5/16:9/pass/elon-musk-is-a-rocket.jpg\")"
   ]
  },
  {
   "cell_type": "markdown",
   "metadata": {},
   "source": [
    "## Part : C"
   ]
  },
  {
   "cell_type": "markdown",
   "metadata": {},
   "source": [
    "Holding ve/v0 = 2 constant, lets use the function from (a) to plot the minimum and maximum launch angles over a range of α with a tolerance of ±4%. Discuss the results. What does the launch angle approach for very small α? Approximately what is the maximum height that one can achieve for ve/v0 = 2?\n"
   ]
  },
  {
   "cell_type": "markdown",
   "metadata": {},
   "source": [
    "Lets slightly alter our primealt function we made so that it returns a datatype we can more-easily manipulate ! "
   ]
  },
  {
   "cell_type": "code",
   "execution_count": 11,
   "metadata": {},
   "outputs": [],
   "source": [
    "def primealt2 (ve_v0, alpha, tol_alpha, stopc):\n",
    "    ''' \n",
    "    This function takes the input: \n",
    "    a ratio of the escape to the terminal velocity ->  ve_v0 \n",
    "    the desired max altitude as a fraction of Earth's radius -> alpha\n",
    "    and the tolerance for max altitude -> tol_alpha\n",
    "    \n",
    "    The function should output:\n",
    "    a two component vector containing the min allowable launch angle (when max altitude is (1*tol_alpha))\n",
    "    and the max allowable launch angle when (the max altitude is (1-tol_alpha)*alpha) \n",
    "    \n",
    "    This function is supposed to compute an allowable range of launch angles for the first stage of the rocket system to reach\n",
    "    target max altitude with a specified tolerance.\n",
    "\n",
    "    \n",
    "    '''\n",
    "    \n",
    "#get alpha MIN \n",
    "    alpha_min = ((1 + tol_alpha)* alpha)\n",
    "#plug alpha min back into formula\n",
    "    minx = ((1 + alpha_min )  *   (np.sqrt((1-(((alpha_min) / (((1 + alpha_min))))* ((ve_v0)**2))))))\n",
    "    \n",
    "    \n",
    "#get alpha MAX\n",
    "    alpha_max = ((1 - tol_alpha)* alpha)\n",
    "    \n",
    "#plug alpha_max into the formula\n",
    "    maxx = ((1 + alpha_max )  *   (np.sqrt((1-(((alpha_max) / (((1 + alpha_max))))* ((ve_v0)**2))))))\n",
    "    \n",
    "    \n",
    "    q1 = tseries(minx, 5)\n",
    "    q2 = tseries(maxx, 5)\n",
    "    return [q1, q2]\n"
   ]
  },
  {
   "cell_type": "markdown",
   "metadata": {},
   "source": [
    "Now to make it easier to visualize the data, we will put together a function called Q3 that will use our primealt2 function we just made to compute a range of Min and Max launch angles from a user-defined range of α values and put it all into a pandas dataframe"
   ]
  },
  {
   "cell_type": "code",
   "execution_count": 12,
   "metadata": {},
   "outputs": [],
   "source": [
    "def Q3(a1, a2):\n",
    "    '''\n",
    "    This function takes the input of a lower bound and an upper bound for a user defined range of alpha values \n",
    "    where a1 = lower bound; and a2= upper bound\n",
    "    \n",
    "    The output of this function a dataframe called dfQ3 that contains aplha values and the corresponding Min and Max angles\n",
    "    for that alpha value. This dataframe can now be used to visualize data later on\n",
    "    \n",
    "    The main purpose of this fuction is to produce a dataframe that illustartes over a range of alpha values what the \n",
    "    min and max angles will be so they can be visualized later on. It makes an array with 10 values total including the\n",
    "    min and max alpha values and then for each of these alpha values it calculates their taylor series approximation for\n",
    "    the min and max angles and populates a dataframe.\n",
    "    \n",
    "    '''\n",
    "    #Create an empty dataframe to populate with alphas in the selected range and min and max angles\n",
    "    dfQ3 = pd.DataFrame(columns=['alpha', 'Min_Angle', 'Max_Angle'])\n",
    "    \n",
    "    #get 10 values inbetween a1 and a2 in an array\n",
    "    array = np.linspace(a1, a2, 10)\n",
    "    #make a loop that uses our function from part A to populate the df with min and max angles over a range of alpha\n",
    "    \n",
    "    for i in range (0, 10):\n",
    "        #hold the ve_v0 = 2 and the tolerance equal to plus/minus 4 % with 5 sigdigs precision\n",
    "        rowi = primealt2(2, array[i], 0.04, 5)\n",
    "        \n",
    "        \n",
    "        dfQ3 = dfQ3.append({'alpha': array[i], 'Min_Angle': rowi[0], 'Max_Angle': rowi[1]}, ignore_index=True)\n",
    "        \n",
    "    return dfQ3\n",
    "    "
   ]
  },
  {
   "cell_type": "markdown",
   "metadata": {},
   "source": [
    "Lets use the above function to scope out what angles that a range of alpha values will produce !"
   ]
  },
  {
   "cell_type": "code",
   "execution_count": 13,
   "metadata": {},
   "outputs": [
    {
     "name": "stderr",
     "output_type": "stream",
     "text": [
      "C:\\Users\\Cole\\Documents\\Python\\lib\\site-packages\\ipykernel_launcher.py:21: RuntimeWarning: invalid value encountered in sqrt\n",
      "C:\\Users\\Cole\\Documents\\Python\\lib\\site-packages\\ipykernel_launcher.py:28: RuntimeWarning: invalid value encountered in sqrt\n"
     ]
    },
    {
     "data": {
      "text/html": [
       "<div>\n",
       "<style scoped>\n",
       "    .dataframe tbody tr th:only-of-type {\n",
       "        vertical-align: middle;\n",
       "    }\n",
       "\n",
       "    .dataframe tbody tr th {\n",
       "        vertical-align: top;\n",
       "    }\n",
       "\n",
       "    .dataframe thead th {\n",
       "        text-align: right;\n",
       "    }\n",
       "</style>\n",
       "<table border=\"1\" class=\"dataframe\">\n",
       "  <thead>\n",
       "    <tr style=\"text-align: right;\">\n",
       "      <th></th>\n",
       "      <th>alpha</th>\n",
       "      <th>Min_Angle</th>\n",
       "      <th>Max_Angle</th>\n",
       "    </tr>\n",
       "  </thead>\n",
       "  <tbody>\n",
       "    <tr>\n",
       "      <td>0</td>\n",
       "      <td>0.000000</td>\n",
       "      <td>1.545497</td>\n",
       "      <td>1.545497</td>\n",
       "    </tr>\n",
       "    <tr>\n",
       "      <td>1</td>\n",
       "      <td>0.055556</td>\n",
       "      <td>1.208551</td>\n",
       "      <td>1.224489</td>\n",
       "    </tr>\n",
       "    <tr>\n",
       "      <td>2</td>\n",
       "      <td>0.111111</td>\n",
       "      <td>1.023074</td>\n",
       "      <td>1.050123</td>\n",
       "    </tr>\n",
       "    <tr>\n",
       "      <td>3</td>\n",
       "      <td>0.166667</td>\n",
       "      <td>0.848766</td>\n",
       "      <td>0.889344</td>\n",
       "    </tr>\n",
       "    <tr>\n",
       "      <td>4</td>\n",
       "      <td>0.222222</td>\n",
       "      <td>0.661680</td>\n",
       "      <td>0.722028</td>\n",
       "    </tr>\n",
       "    <tr>\n",
       "      <td>5</td>\n",
       "      <td>0.277778</td>\n",
       "      <td>0.427448</td>\n",
       "      <td>0.527439</td>\n",
       "    </tr>\n",
       "    <tr>\n",
       "      <td>6</td>\n",
       "      <td>0.333333</td>\n",
       "      <td>NaN</td>\n",
       "      <td>0.231854</td>\n",
       "    </tr>\n",
       "    <tr>\n",
       "      <td>7</td>\n",
       "      <td>0.388889</td>\n",
       "      <td>NaN</td>\n",
       "      <td>NaN</td>\n",
       "    </tr>\n",
       "    <tr>\n",
       "      <td>8</td>\n",
       "      <td>0.444444</td>\n",
       "      <td>NaN</td>\n",
       "      <td>NaN</td>\n",
       "    </tr>\n",
       "    <tr>\n",
       "      <td>9</td>\n",
       "      <td>0.500000</td>\n",
       "      <td>NaN</td>\n",
       "      <td>NaN</td>\n",
       "    </tr>\n",
       "  </tbody>\n",
       "</table>\n",
       "</div>"
      ],
      "text/plain": [
       "      alpha  Min_Angle  Max_Angle\n",
       "0  0.000000   1.545497   1.545497\n",
       "1  0.055556   1.208551   1.224489\n",
       "2  0.111111   1.023074   1.050123\n",
       "3  0.166667   0.848766   0.889344\n",
       "4  0.222222   0.661680   0.722028\n",
       "5  0.277778   0.427448   0.527439\n",
       "6  0.333333        NaN   0.231854\n",
       "7  0.388889        NaN        NaN\n",
       "8  0.444444        NaN        NaN\n",
       "9  0.500000        NaN        NaN"
      ]
     },
     "execution_count": 13,
     "metadata": {},
     "output_type": "execute_result"
    }
   ],
   "source": [
    "#Show limits of alpha values\n",
    "new_df1 = Q3(0,0.5)\n",
    "new_df1"
   ]
  },
  {
   "cell_type": "markdown",
   "metadata": {},
   "source": [
    "It seems that around an alpha value of α = 0.3 that this may be our ceiling while keeping constants in our calculation because above this alpha value we begin to encounter errors. The errors we are getting say \"**invalid value encountered in the square root function**\" which makes sense because in Equation 7 if the alpha value gets too high then there will end up being a negative under the square root which is not allowed. In response to this lets revise our range of alpha values that we input into function Q3 so we can better evaluate the data"
   ]
  },
  {
   "cell_type": "code",
   "execution_count": 14,
   "metadata": {},
   "outputs": [
    {
     "data": {
      "text/html": [
       "<div>\n",
       "<style scoped>\n",
       "    .dataframe tbody tr th:only-of-type {\n",
       "        vertical-align: middle;\n",
       "    }\n",
       "\n",
       "    .dataframe tbody tr th {\n",
       "        vertical-align: top;\n",
       "    }\n",
       "\n",
       "    .dataframe thead th {\n",
       "        text-align: right;\n",
       "    }\n",
       "</style>\n",
       "<table border=\"1\" class=\"dataframe\">\n",
       "  <thead>\n",
       "    <tr style=\"text-align: right;\">\n",
       "      <th></th>\n",
       "      <th>alpha</th>\n",
       "      <th>Min_Angle</th>\n",
       "      <th>Max_Angle</th>\n",
       "    </tr>\n",
       "  </thead>\n",
       "  <tbody>\n",
       "    <tr>\n",
       "      <td>0</td>\n",
       "      <td>0.010000</td>\n",
       "      <td>1.424817</td>\n",
       "      <td>1.430651</td>\n",
       "    </tr>\n",
       "    <tr>\n",
       "      <td>1</td>\n",
       "      <td>0.044444</td>\n",
       "      <td>1.250940</td>\n",
       "      <td>1.264695</td>\n",
       "    </tr>\n",
       "    <tr>\n",
       "      <td>2</td>\n",
       "      <td>0.078889</td>\n",
       "      <td>1.127090</td>\n",
       "      <td>1.147567</td>\n",
       "    </tr>\n",
       "    <tr>\n",
       "      <td>3</td>\n",
       "      <td>0.113333</td>\n",
       "      <td>1.016080</td>\n",
       "      <td>1.043606</td>\n",
       "    </tr>\n",
       "    <tr>\n",
       "      <td>4</td>\n",
       "      <td>0.147778</td>\n",
       "      <td>0.908393</td>\n",
       "      <td>0.943926</td>\n",
       "    </tr>\n",
       "    <tr>\n",
       "      <td>5</td>\n",
       "      <td>0.182222</td>\n",
       "      <td>0.798633</td>\n",
       "      <td>0.843858</td>\n",
       "    </tr>\n",
       "    <tr>\n",
       "      <td>6</td>\n",
       "      <td>0.216667</td>\n",
       "      <td>0.681663</td>\n",
       "      <td>0.739541</td>\n",
       "    </tr>\n",
       "    <tr>\n",
       "      <td>7</td>\n",
       "      <td>0.251111</td>\n",
       "      <td>0.549865</td>\n",
       "      <td>0.626252</td>\n",
       "    </tr>\n",
       "    <tr>\n",
       "      <td>8</td>\n",
       "      <td>0.285556</td>\n",
       "      <td>0.385592</td>\n",
       "      <td>0.495754</td>\n",
       "    </tr>\n",
       "    <tr>\n",
       "      <td>9</td>\n",
       "      <td>0.320000</td>\n",
       "      <td>0.046195</td>\n",
       "      <td>0.325869</td>\n",
       "    </tr>\n",
       "  </tbody>\n",
       "</table>\n",
       "</div>"
      ],
      "text/plain": [
       "      alpha  Min_Angle  Max_Angle\n",
       "0  0.010000   1.424817   1.430651\n",
       "1  0.044444   1.250940   1.264695\n",
       "2  0.078889   1.127090   1.147567\n",
       "3  0.113333   1.016080   1.043606\n",
       "4  0.147778   0.908393   0.943926\n",
       "5  0.182222   0.798633   0.843858\n",
       "6  0.216667   0.681663   0.739541\n",
       "7  0.251111   0.549865   0.626252\n",
       "8  0.285556   0.385592   0.495754\n",
       "9  0.320000   0.046195   0.325869"
      ]
     },
     "execution_count": 14,
     "metadata": {},
     "output_type": "execute_result"
    }
   ],
   "source": [
    "#Show attainable df values with new alpha range of 0.01 to 0.3\n",
    "new_df2 = Q3(0.01,0.32)\n",
    "new_df2"
   ]
  },
  {
   "cell_type": "markdown",
   "metadata": {},
   "source": [
    "This looks way better and the best part is **No Error Message!**. Notice that the α min value is NOT equal to 0. This is because if alpha is an elevation measure then if it is equal to 0 then the rocket has not taken off or moved, it is still at the surface of the Earth. So an α min value of 0.01 is used to be more realistic."
   ]
  },
  {
   "cell_type": "markdown",
   "metadata": {},
   "source": [
    "### Now lets visualize the Min and Max angles within this alpha range can we answer the question we wanted to? "
   ]
  },
  {
   "cell_type": "code",
   "execution_count": 15,
   "metadata": {},
   "outputs": [
    {
     "data": {
      "text/html": [
       "<img src=\"https://www.gobinge.co.za/wp-content/uploads/2020/09/Elon-Musk_-1024x700.jpg\"/>"
      ],
      "text/plain": [
       "<IPython.core.display.Image object>"
      ]
     },
     "execution_count": 15,
     "metadata": {},
     "output_type": "execute_result"
    }
   ],
   "source": [
    "#Show picture of Elon the rocket man\n",
    "from IPython.display import Image\n",
    "from IPython.core.display import HTML \n",
    "Image(url= \"https://www.gobinge.co.za/wp-content/uploads/2020/09/Elon-Musk_-1024x700.jpg\")"
   ]
  },
  {
   "cell_type": "markdown",
   "metadata": {},
   "source": [
    "Make a couple of point plots to see the approximate max and min boundaries for our range of alphas"
   ]
  },
  {
   "cell_type": "code",
   "execution_count": 16,
   "metadata": {},
   "outputs": [
    {
     "data": {
      "image/png": "[encoded data removed]",
      "text/plain": [
       "<Figure size 432x288 with 1 Axes>"
      ]
     },
     "metadata": {
      "needs_background": "light"
     },
     "output_type": "display_data"
    },
    {
     "data": {
      "image/png": "[encoded data removed]",
      "text/plain": [
       "<Figure size 432x288 with 1 Axes>"
      ]
     },
     "metadata": {
      "needs_background": "light"
     },
     "output_type": "display_data"
    }
   ],
   "source": [
    "#make the style look better\n",
    "sns.set_style({'axes.grid': True})\n",
    "\n",
    "\n",
    "# make a pointplot for the Min angles over a range of alphas\n",
    "b = sns.pointplot(x=\"alpha\", y=\"Min_Angle\", hue =\"alpha\" , data= new_df2)\n",
    "b.set_title(\"Min launch angles over a range of alphas with tolerance of 4% with ve/v0 = 2\")\n",
    "b.set_ylabel(\"Angle\")\n",
    "b.set_xlabel(\"Alpha\")\n",
    "b.set_xticklabels( labels = new_df2[\"alpha\"], rotation = 90)\n",
    "# place the legend outside the figure/plot\n",
    "plt.legend(title = 'Alpha value', bbox_to_anchor=(1.01, 1),borderaxespad=0)\n",
    "plt.show()\n",
    "\n",
    "\n",
    "# Make a pointplot for the Max angles over a range of alphas\n",
    "c = sns.pointplot(x=\"alpha\", y=\"Max_Angle\", hue =\"alpha\" , data= new_df2)\n",
    "c.set_title(\"Max launch angles over a range of alphas with tolerance of 4% with ve/v0 = 2\")\n",
    "c.set_ylabel(\"Angle\")\n",
    "c.set_xlabel(\"Alpha\")\n",
    "c.set_xticklabels( labels = new_df2[\"alpha\"], rotation = 90)\n",
    "# place the legend outside the figure/plot and give it a title\n",
    "plt.legend(title = 'Alpha value',bbox_to_anchor=(1.01, 1),borderaxespad=0)\n",
    "plt.show()"
   ]
  },
  {
   "cell_type": "markdown",
   "metadata": {},
   "source": [
    "## So what are these plots indicating to us ??"
   ]
  },
  {
   "cell_type": "markdown",
   "metadata": {},
   "source": [
    "It appears that for a very small alpha (**remember altitude = alpha * Radius of the Earth**) so basically the altitude put into the radius of Earth units, the launch angle is very large (**also remember that a launch angle of 0 means a vertical launch**). So for a lower max altitude the launch angle is farther from vertical; which makes intuitive sense ! The maximum height the rocket can acheive for a ve/v0 ratio = 2 seems to be just above ~ 0.32α or 0.32 of the radius of Earth in altitude. To get a very small alpha of α = 0.01 which is only slightly off the ground, a large launch angle of roughly 1.42 rads is needed when ve/v0 = 2"
   ]
  },
  {
   "cell_type": "markdown",
   "metadata": {},
   "source": [
    "## Part : D"
   ]
  },
  {
   "cell_type": "markdown",
   "metadata": {},
   "source": [
    "Now make a function that is similar to the one before for alpha values but instead lets keep α = 0.25 constant and look at a range of ve/v0 values !"
   ]
  },
  {
   "cell_type": "code",
   "execution_count": 17,
   "metadata": {},
   "outputs": [],
   "source": [
    "def Q4(v1, v2):\n",
    "    '''\n",
    "    This function takes the input of a lower bound and an upper bound for a user defined range of ve_v0 ratios \n",
    "    where v1 = lower bound; and v2= upper bound\n",
    "    \n",
    "    The output of this function a dataframe called dfQ4 that contains ve_v0 values and the corresponding Min and Max angles\n",
    "    for that ve_v0 value. This dataframe can now be used to visualize data later on\n",
    "    \n",
    "    The main purpose of this fuction is to produce a dataframe that illustartes over a range of ve_v0 values what the \n",
    "    min and max angles will be so they can be visualized later on. It makes an array with 10 values total including the\n",
    "    min and max ve_v0 ratio values and then for each of these ve_v0 ratio values it calculates their taylor series \n",
    "    approximation for the min and max angles and populates a dataframe.\n",
    "    \n",
    "    '''\n",
    "    #Create an empty dataframe to populate with alphas in the selected range and min and max angles\n",
    "    dfQ4 = pd.DataFrame(columns=['ve_v0', 'Min_Angle', 'Max_Angle'])\n",
    "    \n",
    "    #get 10 values inbetween v1 and v2 in an array\n",
    "    array2 = np.linspace(v1, v2, 10)\n",
    "    #make a loop that uses our function from part A to populate the df with min and max angles over a range of alpha\n",
    "    \n",
    "    for i in range (0, 10):\n",
    "        #hold the value of alpha = 0.25 constant as we calculate a range of Min and Max angles for specific ve_v0 values\n",
    "        rowi = primealt2(array2[i],0.25, 0.04, 5)\n",
    "        \n",
    "        #Add these calculated values to the dataframe\n",
    "        dfQ4 = dfQ4.append({'ve_v0': array2[i], 'Min_Angle': rowi[0], 'Max_Angle': rowi[1]}, ignore_index=True)\n",
    "        \n",
    "    return dfQ4\n",
    "    "
   ]
  },
  {
   "cell_type": "markdown",
   "metadata": {},
   "source": [
    "Lets see if there is an error like before from a negative value in the square root of Equation 7 and what value this is encountered at:"
   ]
  },
  {
   "cell_type": "code",
   "execution_count": 18,
   "metadata": {},
   "outputs": [
    {
     "name": "stderr",
     "output_type": "stream",
     "text": [
      "C:\\Users\\Cole\\Documents\\Python\\lib\\site-packages\\ipykernel_launcher.py:24: RuntimeWarning: overflow encountered in double_scalars\n",
      "C:\\Users\\Cole\\Documents\\Python\\lib\\site-packages\\ipykernel_launcher.py:32: RuntimeWarning: invalid value encountered in double_scalars\n",
      "C:\\Users\\Cole\\Documents\\Python\\lib\\site-packages\\ipykernel_launcher.py:21: RuntimeWarning: invalid value encountered in sqrt\n",
      "C:\\Users\\Cole\\Documents\\Python\\lib\\site-packages\\ipykernel_launcher.py:28: RuntimeWarning: invalid value encountered in sqrt\n"
     ]
    },
    {
     "data": {
      "text/html": [
       "<div>\n",
       "<style scoped>\n",
       "    .dataframe tbody tr th:only-of-type {\n",
       "        vertical-align: middle;\n",
       "    }\n",
       "\n",
       "    .dataframe tbody tr th {\n",
       "        vertical-align: top;\n",
       "    }\n",
       "\n",
       "    .dataframe thead th {\n",
       "        text-align: right;\n",
       "    }\n",
       "</style>\n",
       "<table border=\"1\" class=\"dataframe\">\n",
       "  <thead>\n",
       "    <tr style=\"text-align: right;\">\n",
       "      <th></th>\n",
       "      <th>ve_v0</th>\n",
       "      <th>Min_Angle</th>\n",
       "      <th>Max_Angle</th>\n",
       "    </tr>\n",
       "  </thead>\n",
       "  <tbody>\n",
       "    <tr>\n",
       "      <td>0</td>\n",
       "      <td>1.250000</td>\n",
       "      <td>inf</td>\n",
       "      <td>inf</td>\n",
       "    </tr>\n",
       "    <tr>\n",
       "      <td>1</td>\n",
       "      <td>1.388889</td>\n",
       "      <td>1.358572</td>\n",
       "      <td>1.378567</td>\n",
       "    </tr>\n",
       "    <tr>\n",
       "      <td>2</td>\n",
       "      <td>1.527778</td>\n",
       "      <td>1.136485</td>\n",
       "      <td>1.163335</td>\n",
       "    </tr>\n",
       "    <tr>\n",
       "      <td>3</td>\n",
       "      <td>1.666667</td>\n",
       "      <td>0.966958</td>\n",
       "      <td>1.003145</td>\n",
       "    </tr>\n",
       "    <tr>\n",
       "      <td>4</td>\n",
       "      <td>1.805556</td>\n",
       "      <td>0.805016</td>\n",
       "      <td>0.853017</td>\n",
       "    </tr>\n",
       "    <tr>\n",
       "      <td>5</td>\n",
       "      <td>1.944444</td>\n",
       "      <td>0.631991</td>\n",
       "      <td>0.697358</td>\n",
       "    </tr>\n",
       "    <tr>\n",
       "      <td>6</td>\n",
       "      <td>2.083333</td>\n",
       "      <td>0.419269</td>\n",
       "      <td>0.518890</td>\n",
       "    </tr>\n",
       "    <tr>\n",
       "      <td>7</td>\n",
       "      <td>2.222222</td>\n",
       "      <td>NaN</td>\n",
       "      <td>0.263759</td>\n",
       "    </tr>\n",
       "    <tr>\n",
       "      <td>8</td>\n",
       "      <td>2.361111</td>\n",
       "      <td>NaN</td>\n",
       "      <td>NaN</td>\n",
       "    </tr>\n",
       "    <tr>\n",
       "      <td>9</td>\n",
       "      <td>2.500000</td>\n",
       "      <td>NaN</td>\n",
       "      <td>NaN</td>\n",
       "    </tr>\n",
       "  </tbody>\n",
       "</table>\n",
       "</div>"
      ],
      "text/plain": [
       "      ve_v0  Min_Angle  Max_Angle\n",
       "0  1.250000        inf        inf\n",
       "1  1.388889   1.358572   1.378567\n",
       "2  1.527778   1.136485   1.163335\n",
       "3  1.666667   0.966958   1.003145\n",
       "4  1.805556   0.805016   0.853017\n",
       "5  1.944444   0.631991   0.697358\n",
       "6  2.083333   0.419269   0.518890\n",
       "7  2.222222        NaN   0.263759\n",
       "8  2.361111        NaN        NaN\n",
       "9  2.500000        NaN        NaN"
      ]
     },
     "execution_count": 18,
     "metadata": {},
     "output_type": "execute_result"
    }
   ],
   "source": [
    "#Show the limits of ve_v0 range\n",
    "newerdf1 = Q4(1.25,2.5)\n",
    "newerdf1"
   ]
  },
  {
   "cell_type": "markdown",
   "metadata": {},
   "source": [
    "It looks like there is upper AND lower cut-off for values that can be computed to get an α = 0.25. Lets refine our range of ve/v0 ratio values:"
   ]
  },
  {
   "cell_type": "code",
   "execution_count": 19,
   "metadata": {},
   "outputs": [
    {
     "data": {
      "text/html": [
       "<div>\n",
       "<style scoped>\n",
       "    .dataframe tbody tr th:only-of-type {\n",
       "        vertical-align: middle;\n",
       "    }\n",
       "\n",
       "    .dataframe tbody tr th {\n",
       "        vertical-align: top;\n",
       "    }\n",
       "\n",
       "    .dataframe thead th {\n",
       "        text-align: right;\n",
       "    }\n",
       "</style>\n",
       "<table border=\"1\" class=\"dataframe\">\n",
       "  <thead>\n",
       "    <tr style=\"text-align: right;\">\n",
       "      <th></th>\n",
       "      <th>ve_v0</th>\n",
       "      <th>Min_Angle</th>\n",
       "      <th>Max_Angle</th>\n",
       "    </tr>\n",
       "  </thead>\n",
       "  <tbody>\n",
       "    <tr>\n",
       "      <td>0</td>\n",
       "      <td>1.330000</td>\n",
       "      <td>1.843474</td>\n",
       "      <td>2.316743</td>\n",
       "    </tr>\n",
       "    <tr>\n",
       "      <td>1</td>\n",
       "      <td>1.426667</td>\n",
       "      <td>1.285508</td>\n",
       "      <td>1.306690</td>\n",
       "    </tr>\n",
       "    <tr>\n",
       "      <td>2</td>\n",
       "      <td>1.523333</td>\n",
       "      <td>1.142334</td>\n",
       "      <td>1.168911</td>\n",
       "    </tr>\n",
       "    <tr>\n",
       "      <td>3</td>\n",
       "      <td>1.620000</td>\n",
       "      <td>1.021970</td>\n",
       "      <td>1.054822</td>\n",
       "    </tr>\n",
       "    <tr>\n",
       "      <td>4</td>\n",
       "      <td>1.716667</td>\n",
       "      <td>0.908826</td>\n",
       "      <td>0.948882</td>\n",
       "    </tr>\n",
       "    <tr>\n",
       "      <td>5</td>\n",
       "      <td>1.813333</td>\n",
       "      <td>0.795790</td>\n",
       "      <td>0.844573</td>\n",
       "    </tr>\n",
       "    <tr>\n",
       "      <td>6</td>\n",
       "      <td>1.910000</td>\n",
       "      <td>0.677034</td>\n",
       "      <td>0.737249</td>\n",
       "    </tr>\n",
       "    <tr>\n",
       "      <td>7</td>\n",
       "      <td>2.006667</td>\n",
       "      <td>0.544652</td>\n",
       "      <td>0.621742</td>\n",
       "    </tr>\n",
       "    <tr>\n",
       "      <td>8</td>\n",
       "      <td>2.103333</td>\n",
       "      <td>0.381032</td>\n",
       "      <td>0.489428</td>\n",
       "    </tr>\n",
       "    <tr>\n",
       "      <td>9</td>\n",
       "      <td>2.200000</td>\n",
       "      <td>0.044915</td>\n",
       "      <td>0.317081</td>\n",
       "    </tr>\n",
       "  </tbody>\n",
       "</table>\n",
       "</div>"
      ],
      "text/plain": [
       "      ve_v0  Min_Angle  Max_Angle\n",
       "0  1.330000   1.843474   2.316743\n",
       "1  1.426667   1.285508   1.306690\n",
       "2  1.523333   1.142334   1.168911\n",
       "3  1.620000   1.021970   1.054822\n",
       "4  1.716667   0.908826   0.948882\n",
       "5  1.813333   0.795790   0.844573\n",
       "6  1.910000   0.677034   0.737249\n",
       "7  2.006667   0.544652   0.621742\n",
       "8  2.103333   0.381032   0.489428\n",
       "9  2.200000   0.044915   0.317081"
      ]
     },
     "execution_count": 19,
     "metadata": {},
     "output_type": "execute_result"
    }
   ],
   "source": [
    "#show attainable df values for ve_v0\n",
    "newerdf2 = Q4(1.33,2.2)\n",
    "newerdf2"
   ]
  },
  {
   "cell_type": "markdown",
   "metadata": {},
   "source": [
    "## This looks way better again, Now lets plot and see what it is telling us :"
   ]
  },
  {
   "cell_type": "code",
   "execution_count": 20,
   "metadata": {},
   "outputs": [
    {
     "data": {
      "image/png": "[encoded data removed]",
      "text/plain": [
       "<Figure size 432x288 with 1 Axes>"
      ]
     },
     "metadata": {
      "needs_background": "light"
     },
     "output_type": "display_data"
    },
    {
     "data": {
      "image/png": "[encoded data removed]",
      "text/plain": [
       "<Figure size 432x288 with 1 Axes>"
      ]
     },
     "metadata": {
      "needs_background": "light"
     },
     "output_type": "display_data"
    }
   ],
   "source": [
    "# make a pointplot for the Min angles over a range of alphas\n",
    "d = sns.pointplot(x=\"ve_v0\", y=\"Min_Angle\", hue =\"ve_v0\" , data= newerdf2)\n",
    "d.set_title(\"Min launch angles over a range of ve_v0 with tolerance of 4% with alpha = 0.25\")\n",
    "d.set_ylabel(\"Angle\")\n",
    "d.set_xlabel(\"ve_v0 ratio\")\n",
    "d.set_xticklabels( labels = newerdf2[\"ve_v0\"], rotation = 90)\n",
    "# place the legend outside the figure/plot\n",
    "plt.legend(title = 've_v0', bbox_to_anchor=(1.01, 1),borderaxespad=0)\n",
    "plt.show()\n",
    "\n",
    "\n",
    "# Make a pointplot for the Max angles over a range of alphas\n",
    "e = sns.pointplot(x=\"ve_v0\", y=\"Max_Angle\", hue =\"ve_v0\" , data= newerdf2)\n",
    "e.set_title(\"Max launch angles over a range of ve_v0 with tolerance of 4% with alpha = 0.25\")\n",
    "e.set_ylabel(\"Angle\")\n",
    "e.set_xlabel(\"ve_v0 ratio\")\n",
    "e.set_xticklabels( labels = newerdf2[\"ve_v0\"], rotation = 90)\n",
    "# place the legend outside the figure/plot\n",
    "plt.legend(title = 've_v0',bbox_to_anchor=(1.01, 1),borderaxespad=0)\n",
    "plt.show()"
   ]
  },
  {
   "cell_type": "markdown",
   "metadata": {},
   "source": [
    "According to the plot, the minimum ve/v0 ratio to achieve an alpha of 0.25 appears to be around ve/v0 = 1.3. This happens when the launch angle is very small (so practically vertical) and also makes sense. A maximum ve/v0 ratio of approximately 2.2 is needed to reach the desired altitude of alpha = 0.25. "
   ]
  },
  {
   "cell_type": "markdown",
   "metadata": {},
   "source": [
    "## Conclusion"
   ]
  },
  {
   "cell_type": "markdown",
   "metadata": {},
   "source": [
    "Python code was utilized in this lab to assist in plotting various graphs and carrying out numerical analysis. After synthesizing the code, **Part B** asked to test the accuracy of the code by comparing its results with those computed by another tool. The code was verified to be accurate as the results from both methods agreed with one another. For **Part C and Part D** various plots were created while keeping specific variables as constants. The first plot kept the velocity ratio constant at 2 and graphed the minimum and maximum allowable launch angles over a range of alpha values. It was found that for smaller alpha values, the launch angle becomes closer to 90 degrees, indicating that a more horizontal and farther from vertical takeoff is required to achieve a lower altitude. This makes intuitive sense. As the alpha becomes larger, the launch angle becomes closer to 0 degrees, indicating that a more vertical launch is required to achieve a higher altitude. The maximum height the rocket can acheive for a ve/v0 ratio = 2 seems to be just above ~ 0.32α or 0.32 of the radius of Earth in altitude. The second set of plots are generated through seaborn code and functions that held the alpha constant at 0.25 and graphed the minimum and maximum launch angles over a range of velocity ratios(ve/v0). It was found that at higher launch angles, the velocity ratio needed to be closer to 1.33 to reach the desired altitude. At very small launch angles which are more horizontal, the velocity ratio needed to be closer to 2.2 in order to reach the desired altitude. The last part of this lab asked to carry out error analysis of the computations. The error in sinφ0 was calculated to be ±0.34 by taking the partial derivatives of the function with respect to alpha and the velocity ratio and multiplying these terms by the individual variable errors. Two Condition Numbers were then computed using equation 7. For an α = 0.25 while holding ve/v0 constant a **CN = 1.4** was calculated. For an ve/v0 = 2 while holding α constant a **CN = 4.0** was calculated. Since these condition numbers were greater than 1, the function is **unstable or ill-conditioned** near a ve/v0 = 2 and α = 0.25, because of this the error will likely magnify drastically throughout the computations."
   ]
  },
  {
   "cell_type": "markdown",
   "metadata": {},
   "source": [
    "## References"
   ]
  },
  {
   "cell_type": "markdown",
   "metadata": {},
   "source": [
    "1) Sharp, M. (2021) University of Calgary Teaching Assistant. Computational Methods for Geophysicists Winter. 2021\n"
   ]
  },
  {
   "cell_type": "markdown",
   "metadata": {},
   "source": [
    "2) Karchewski, B (2021) Topic 01 – Error Sources and Quantification – Lecture, University of Calgary https://d2l.ucalgary.ca/d2l/le/content/356381/Home\n"
   ]
  },
  {
   "cell_type": "markdown",
   "metadata": {},
   "source": [
    "3) Pictures used in this lab can be found at their url's embedded in the code!"
   ]
  }
 ],
 "metadata": {
  "kernelspec": {
   "display_name": "Python 3",
   "language": "python",
   "name": "python3"
  },
  "language_info": {
   "codemirror_mode": {
    "name": "ipython",
    "version": 3
   },
   "file_extension": ".py",
   "mimetype": "text/x-python",
   "name": "python",
   "nbconvert_exporter": "python",
   "pygments_lexer": "ipython3",
   "version": "3.7.4"
  }
 },
 "nbformat": 4,
 "nbformat_minor": 4
}
